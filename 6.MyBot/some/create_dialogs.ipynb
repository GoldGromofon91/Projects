{
 "cells": [
  {
   "cell_type": "code",
   "execution_count": 52,
   "metadata": {},
   "outputs": [],
   "source": [
    "import nltk"
   ]
  },
  {
   "cell_type": "code",
   "execution_count": 53,
   "metadata": {},
   "outputs": [],
   "source": [
    "with open(\"dialogues.txt\") as f:\n",
    "    dialogue_date = f.read()\n",
    "    "
   ]
  },
  {
   "cell_type": "code",
   "execution_count": 54,
   "metadata": {},
   "outputs": [],
   "source": [
    "#Засплитили по двойной новоой строке \\n\\n\n",
    "dialog_list = [dialog.split(\"\\n\")[:2]for dialog in dialogue_date.split('\\n\\n')]"
   ]
  },
  {
   "cell_type": "code",
   "execution_count": 55,
   "metadata": {},
   "outputs": [],
   "source": [
    "#Соединили вопрос ответ в один список.\n",
    "dialogues = [dialog for dialog in dialog_list if len(dialog) == 2]"
   ]
  },
  {
   "cell_type": "code",
   "execution_count": 56,
   "metadata": {},
   "outputs": [],
   "source": [
    "correct_smbl = '1234567890- qwertyuiopasdfghjklzxcvbnmйцукенгшщзхъфывапролджэёячсмитьбю'"
   ]
  },
  {
   "cell_type": "code",
   "execution_count": 57,
   "metadata": {},
   "outputs": [],
   "source": [
    "dialogues_filter = []\n",
    "\n",
    "for element in dialogues:\n",
    "    question = element[0][2:].lower()\n",
    "    question = ''.join(symb for symb in question if symb in correct_smbl)\n",
    "    question = question.strip()\n",
    "    answer = element[1][2:].lower()\n",
    "    answer = ''.join(symb for symb in answer if symb in correct_smbl)\n",
    "    if question and answer:\n",
    "        dialogues_filter.append((question,answer))\n"
   ]
  },
  {
   "cell_type": "code",
   "execution_count": 58,
   "metadata": {},
   "outputs": [
    {
     "data": {
      "text/plain": [
       "('очень', 'не слышу горячности в ответе я б не так ответила')"
      ]
     },
     "execution_count": 58,
     "metadata": {},
     "output_type": "execute_result"
    }
   ],
   "source": [
    "#Удаляем повторяющиеся пары\n",
    "unique_dialogues = list(set(dialogues_filter))\n",
    "unique_dialogues[10]"
   ]
  },
  {
   "cell_type": "code",
   "execution_count": 76,
   "metadata": {},
   "outputs": [],
   "source": [
    "\"\"\"\n",
    "Создадим Дата-сет из всех слов и \n",
    "пар вопрос ответ которые чаще встречаются \n",
    "в нашем unique_diag% \n",
    "\"\"\"\n",
    "data_for_search = {} #{'word':[question,answer]}\n",
    "\n",
    "for que,answ in unique_dialogues:\n",
    "    words = que.split(' ')\n",
    "    for word in words:\n",
    "        if word not in data_for_search:\n",
    "            data_for_search[word] = []\n",
    "        data_for_search[word].append((que,answ))\n",
    "\n",
    "\n",
    "to_del=[]\n",
    "for word in data_for_search:\n",
    "    if len(data_for_search[word]) > 10000:\n",
    "        to_del.append(word)\n",
    "for word in to_del:\n",
    "    data_for_search.pop(word)\n"
   ]
  },
  {
   "cell_type": "code",
   "execution_count": 77,
   "metadata": {},
   "outputs": [
    {
     "data": {
      "text/plain": [
       "208981"
      ]
     },
     "execution_count": 77,
     "metadata": {},
     "output_type": "execute_result"
    }
   ],
   "source": [
    "len(data_for_search)"
   ]
  },
  {
   "cell_type": "code",
   "execution_count": 78,
   "metadata": {},
   "outputs": [],
   "source": [
    " # Создаем логику ответов по заготовкам из дата-сета диалогов\n",
    "correct_smbl = '1234567890- qwertyuiopasdfghjklzxcvbnmйцукенгшщзхъфывапролджэёячсмитьбю'\n",
    "\n",
    "def get_generete_bot_answer(text):\n",
    "    #Подготовили список ответов.\n",
    "    qas=[]\n",
    "    #Разбиваем текст пользователя по пробелам и чисти от знаков пунктуации и пробелов\n",
    "    text = text.lower()\n",
    "    text = ''.join(symb for symb in text if symb in correct_smbl)\n",
    "    text = text.strip()\n",
    "    words = text.split(\" \")\n",
    "    for word in words:\n",
    "        if word in data_for_search:\n",
    "            qas += data_for_search[word]\n",
    "   \n",
    "    for question,answer in qas:\n",
    "        if abs(len(text) - len(question)) <= len(question) * 0.20:\n",
    "            edit_distance = nltk.edit_distance(text, question)\n",
    "            if edit_distance / len(question) < 0.20:\n",
    "                return answer"
   ]
  },
  {
   "cell_type": "code",
   "execution_count": 79,
   "metadata": {},
   "outputs": [
    {
     "data": {
      "text/plain": [
       "'девочка или мальчик'"
      ]
     },
     "execution_count": 79,
     "metadata": {},
     "output_type": "execute_result"
    }
   ],
   "source": [
    "get_generete_bot_answer('ты девочка или мальчик')"
   ]
  },
  {
   "cell_type": "code",
   "execution_count": 84,
   "metadata": {},
   "outputs": [],
   "source": [
    "get_generete_bot_answer('что?')"
   ]
  },
  {
   "cell_type": "code",
   "execution_count": null,
   "metadata": {},
   "outputs": [],
   "source": []
  }
 ],
 "metadata": {
  "kernelspec": {
   "display_name": "Python 3",
   "language": "python",
   "name": "python3"
  },
  "language_info": {
   "codemirror_mode": {
    "name": "ipython",
    "version": 3
   },
   "file_extension": ".py",
   "mimetype": "text/x-python",
   "name": "python",
   "nbconvert_exporter": "python",
   "pygments_lexer": "ipython3",
   "version": "3.7.4"
  }
 },
 "nbformat": 4,
 "nbformat_minor": 2
}
